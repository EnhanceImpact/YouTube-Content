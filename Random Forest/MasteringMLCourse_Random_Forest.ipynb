{
  "nbformat": 4,
  "nbformat_minor": 0,
  "metadata": {
    "colab": {
      "provenance": []
    },
    "kernelspec": {
      "name": "python3",
      "display_name": "Python 3"
    },
    "language_info": {
      "name": "python"
    }
  },
  "cells": [
    {
      "cell_type": "markdown",
      "source": [
        "## Install Required Libraries"
      ],
      "metadata": {
        "id": "NVI717tlHJtS"
      }
    },
    {
      "cell_type": "code",
      "source": [
        "!pip install matplotlib seaborn scikit-learn graphviz\n"
      ],
      "metadata": {
        "colab": {
          "base_uri": "https://localhost:8080/"
        },
        "id": "lsFkSEP5r5Uf",
        "outputId": "794a98b5-6522-4bf1-db12-fa0f7aedd925"
      },
      "execution_count": 1,
      "outputs": [
        {
          "output_type": "stream",
          "name": "stdout",
          "text": [
            "Requirement already satisfied: matplotlib in /usr/local/lib/python3.11/dist-packages (3.10.0)\n",
            "Requirement already satisfied: seaborn in /usr/local/lib/python3.11/dist-packages (0.13.2)\n",
            "Requirement already satisfied: scikit-learn in /usr/local/lib/python3.11/dist-packages (1.6.1)\n",
            "Requirement already satisfied: graphviz in /usr/local/lib/python3.11/dist-packages (0.20.3)\n",
            "Requirement already satisfied: contourpy>=1.0.1 in /usr/local/lib/python3.11/dist-packages (from matplotlib) (1.3.1)\n",
            "Requirement already satisfied: cycler>=0.10 in /usr/local/lib/python3.11/dist-packages (from matplotlib) (0.12.1)\n",
            "Requirement already satisfied: fonttools>=4.22.0 in /usr/local/lib/python3.11/dist-packages (from matplotlib) (4.56.0)\n",
            "Requirement already satisfied: kiwisolver>=1.3.1 in /usr/local/lib/python3.11/dist-packages (from matplotlib) (1.4.8)\n",
            "Requirement already satisfied: numpy>=1.23 in /usr/local/lib/python3.11/dist-packages (from matplotlib) (1.26.4)\n",
            "Requirement already satisfied: packaging>=20.0 in /usr/local/lib/python3.11/dist-packages (from matplotlib) (24.2)\n",
            "Requirement already satisfied: pillow>=8 in /usr/local/lib/python3.11/dist-packages (from matplotlib) (11.1.0)\n",
            "Requirement already satisfied: pyparsing>=2.3.1 in /usr/local/lib/python3.11/dist-packages (from matplotlib) (3.2.1)\n",
            "Requirement already satisfied: python-dateutil>=2.7 in /usr/local/lib/python3.11/dist-packages (from matplotlib) (2.8.2)\n",
            "Requirement already satisfied: pandas>=1.2 in /usr/local/lib/python3.11/dist-packages (from seaborn) (2.2.2)\n",
            "Requirement already satisfied: scipy>=1.6.0 in /usr/local/lib/python3.11/dist-packages (from scikit-learn) (1.13.1)\n",
            "Requirement already satisfied: joblib>=1.2.0 in /usr/local/lib/python3.11/dist-packages (from scikit-learn) (1.4.2)\n",
            "Requirement already satisfied: threadpoolctl>=3.1.0 in /usr/local/lib/python3.11/dist-packages (from scikit-learn) (3.5.0)\n",
            "Requirement already satisfied: pytz>=2020.1 in /usr/local/lib/python3.11/dist-packages (from pandas>=1.2->seaborn) (2025.1)\n",
            "Requirement already satisfied: tzdata>=2022.7 in /usr/local/lib/python3.11/dist-packages (from pandas>=1.2->seaborn) (2025.1)\n",
            "Requirement already satisfied: six>=1.5 in /usr/local/lib/python3.11/dist-packages (from python-dateutil>=2.7->matplotlib) (1.17.0)\n"
          ]
        }
      ]
    },
    {
      "cell_type": "markdown",
      "source": [
        "## Random Forest with Hyperparameter Optimization & Visualization"
      ],
      "metadata": {
        "id": "0RSYPyezHPiL"
      }
    },
    {
      "cell_type": "markdown",
      "source": [
        "### Load Libraries & View the Data"
      ],
      "metadata": {
        "id": "oDvDFT0iipNu"
      }
    },
    {
      "cell_type": "code",
      "source": [
        "import numpy as np\n",
        "import pandas as pd\n",
        "import matplotlib.pyplot as plt\n",
        "import seaborn as sns\n",
        "\n",
        "from sklearn.preprocessing import OneHotEncoder\n",
        "from sklearn.ensemble import RandomForestClassifier\n",
        "from sklearn.model_selection import train_test_split, GridSearchCV\n",
        "from sklearn.metrics import confusion_matrix, classification_report, roc_curve, auc\n",
        "from sklearn.tree import plot_tree\n",
        "\n",
        "# Load dataset\n",
        "data = pd.read_csv('/content/UsedCars.csv')\n",
        "\n",
        "print(\"----------- View the First Five Rows of the Data --------------\")\n",
        "print(data.head())\n",
        "\n",
        "print(\"------------- Data Information Check of Size and Completeness --------------\")\n",
        "print(data.info())\n",
        "\n"
      ],
      "metadata": {
        "id": "3O-w1v-Osa8w",
        "colab": {
          "base_uri": "https://localhost:8080/"
        },
        "collapsed": true,
        "outputId": "83706598-81fd-4fab-a388-5ae607cb157c"
      },
      "execution_count": 2,
      "outputs": [
        {
          "output_type": "stream",
          "name": "stdout",
          "text": [
            "----------- View the First Five Rows of the Data --------------\n",
            "   Year       Make         Model  Price  Number of Owners           Use  \\\n",
            "0  2011  Chevrolet  Silverado LT   9988                 2  Personal Use   \n",
            "1  2008     Toyota    Corolla CE   7995                 2  Multiple Use   \n",
            "2  2012        Kia        Rio LX   4995                 2  Personal Use   \n",
            "3  2018     Nissan      Rogue SL   7980                 1  Personal Use   \n",
            "4  2018    Hyundai    Tucson SEL   9775                 1  Personal Use   \n",
            "\n",
            "     Body  Mileage Damage Accident Purchase  \n",
            "0  Pickup   125210    Yes       No       No  \n",
            "1   Sedan   121681     No       No      Yes  \n",
            "2   Sedan   140401     No       No       No  \n",
            "3     SUV   213787     No       No       No  \n",
            "4     SUV   147815     No       No       No  \n",
            "------------- Data Information Check of Size and Completeness --------------\n",
            "<class 'pandas.core.frame.DataFrame'>\n",
            "RangeIndex: 93 entries, 0 to 92\n",
            "Data columns (total 11 columns):\n",
            " #   Column            Non-Null Count  Dtype \n",
            "---  ------            --------------  ----- \n",
            " 0   Year              93 non-null     int64 \n",
            " 1   Make              93 non-null     object\n",
            " 2   Model             93 non-null     object\n",
            " 3   Price             93 non-null     int64 \n",
            " 4   Number of Owners  93 non-null     int64 \n",
            " 5   Use               93 non-null     object\n",
            " 6   Body              93 non-null     object\n",
            " 7   Mileage           93 non-null     int64 \n",
            " 8   Damage            93 non-null     object\n",
            " 9   Accident          93 non-null     object\n",
            " 10  Purchase          93 non-null     object\n",
            "dtypes: int64(4), object(7)\n",
            "memory usage: 8.1+ KB\n",
            "None\n"
          ]
        }
      ]
    },
    {
      "cell_type": "markdown",
      "source": [
        "### Data Preparation for Modeling Including Feature Engineering\n"
      ],
      "metadata": {
        "id": "jrpYb3oji5mI"
      }
    },
    {
      "cell_type": "code",
      "source": [
        "# Subset or filter to specific columns of interest\n",
        "data = data[['Year', 'Make', 'Price', 'Number of Owners', 'Use', 'Body', 'Mileage', 'Damage', 'Purchase']]\n",
        "\n",
        "# Feature engineering age\n",
        "data.loc[:, 'Age'] = 2025 - data['Year']\n",
        "\n",
        "# Selecting factors or features for the model\n",
        "data = data[['Age', 'Make', 'Price', 'Number of Owners', 'Use', 'Body', 'Mileage', 'Damage', 'Purchase']]\n",
        "\n",
        "# Specify columns with \"Yes\" and \"No\" values to map to binary\n",
        "binary_cols = ['Purchase', 'Damage']  # Add any other \"Yes\"/\"No\" columns here\n",
        "\n",
        "# Map binary columns to 0 and 1\n",
        "for col in binary_cols:\n",
        "    data[col] = data[col].map({'No': 0, 'Yes': 1})\n",
        "\n",
        "# Separate features and target\n",
        "X = data.drop(['Purchase'], axis=1)\n",
        "y = data['Purchase']\n",
        "\n",
        "# Define categorical columns to one-hot encode (excluding binary-encoded columns)\n",
        "categorical_cols = ['Make', 'Use', 'Body']\n",
        "numeric_cols = ['Age', 'Price', 'Number of Owners', 'Mileage']\n",
        "\n",
        "# One-hot encode the categorical columns\n",
        "encoder = OneHotEncoder()\n",
        "X_encoded = encoder.fit_transform(X[categorical_cols])\n",
        "\n",
        "# Convert the encoded data to a DataFrame with feature names\n",
        "encoded_feature_names = encoder.get_feature_names_out(categorical_cols)\n",
        "X_encoded_df = pd.DataFrame(X_encoded.toarray(), columns=encoded_feature_names, index=X.index)\n",
        "\n",
        "# # Concatenate the encoded categorical data with the numeric and binary columns\n",
        "X_final = pd.concat([X[numeric_cols + [binary_cols[1]]], X_encoded_df], axis=1)\n",
        "\n",
        "print(\"-------------Input Data After Transformations ------------\")\n",
        "print(X_final.head())\n",
        "\n"
      ],
      "metadata": {
        "colab": {
          "base_uri": "https://localhost:8080/"
        },
        "id": "lC1X3fcriZN6",
        "outputId": "8d59f725-e366-45bc-a166-55c6af02b85f"
      },
      "execution_count": 3,
      "outputs": [
        {
          "output_type": "stream",
          "name": "stdout",
          "text": [
            "-------------Input Data After Transformations ------------\n",
            "   Age  Price  Number of Owners  Mileage  Damage  Make_Audi  Make_BMW  \\\n",
            "0   14   9988                 2   125210     1.0        0.0       0.0   \n",
            "1   17   7995                 2   121681     0.0        0.0       0.0   \n",
            "2   13   4995                 2   140401     0.0        0.0       0.0   \n",
            "3    7   7980                 1   213787     0.0        0.0       0.0   \n",
            "4    7   9775                 1   147815     0.0        0.0       0.0   \n",
            "\n",
            "   Make_BMW   Make_Buick  Make_Cadillac  ...  Use_Personal Use  \\\n",
            "0        0.0         0.0            0.0  ...               1.0   \n",
            "1        0.0         0.0            0.0  ...               0.0   \n",
            "2        0.0         0.0            0.0  ...               1.0   \n",
            "3        0.0         0.0            0.0  ...               1.0   \n",
            "4        0.0         0.0            0.0  ...               1.0   \n",
            "\n",
            "   Use_Rental Use  Body_Coupe  Body_Hatchback  Body_Minivan  Body_Pickup  \\\n",
            "0             0.0         0.0             0.0           0.0          1.0   \n",
            "1             0.0         0.0             0.0           0.0          0.0   \n",
            "2             0.0         0.0             0.0           0.0          0.0   \n",
            "3             0.0         0.0             0.0           0.0          0.0   \n",
            "4             0.0         0.0             0.0           0.0          0.0   \n",
            "\n",
            "   Body_SUV  Body_Sedan  Body_Wagon  Body_hatchback  \n",
            "0       0.0         0.0         0.0             0.0  \n",
            "1       0.0         1.0         0.0             0.0  \n",
            "2       0.0         1.0         0.0             0.0  \n",
            "3       1.0         0.0         0.0             0.0  \n",
            "4       1.0         0.0         0.0             0.0  \n",
            "\n",
            "[5 rows x 46 columns]\n"
          ]
        },
        {
          "output_type": "stream",
          "name": "stderr",
          "text": [
            "<ipython-input-3-bcdd7fa924b4>:5: SettingWithCopyWarning: \n",
            "A value is trying to be set on a copy of a slice from a DataFrame.\n",
            "Try using .loc[row_indexer,col_indexer] = value instead\n",
            "\n",
            "See the caveats in the documentation: https://pandas.pydata.org/pandas-docs/stable/user_guide/indexing.html#returning-a-view-versus-a-copy\n",
            "  data.loc[:, 'Age'] = 2025 - data['Year']\n"
          ]
        }
      ]
    },
    {
      "cell_type": "markdown",
      "source": [
        "### Training the Random Forest Model"
      ],
      "metadata": {
        "id": "aIIJi1ZilO_X"
      }
    },
    {
      "cell_type": "code",
      "source": [
        "# Continue with splitting the data, training, and evaluating the model as before\n",
        "X_train, X_test, y_train, y_test = train_test_split(X_final, y, test_size=0.3, random_state=42)\n",
        "\n",
        "# Define parameter grid for hyperparameter tuning\n",
        "param_grid = {\n",
        "    'n_estimators': [50, 100, 200],\n",
        "    'max_depth': [5, 10, None],\n",
        "    'min_samples_split': [2, 5, 10],\n",
        "    'min_samples_leaf': [1, 2, 4],\n",
        "    'criterion': ['gini', 'entropy']\n",
        "}\n",
        "\n",
        "# Initialize Random Forest Classifier\n",
        "rf = RandomForestClassifier(random_state=42)\n",
        "\n",
        "# Perform Grid Search\n",
        "grid_search = GridSearchCV(rf, param_grid, cv=5, scoring='accuracy', n_jobs=-1)\n",
        "grid_search.fit(X_train, y_train)\n",
        "\n",
        "# Get the best model\n",
        "best_rf = grid_search.best_estimator_\n",
        "\n",
        "print(\"Best Parameters:\", grid_search.best_params_)\n",
        "\n",
        "# Predict on test set\n",
        "y_pred = best_rf.predict(X_test)\n",
        "y_prob = best_rf.predict_proba(X_test)[:, 1]"
      ],
      "metadata": {
        "colab": {
          "base_uri": "https://localhost:8080/"
        },
        "id": "iC907zvikWEG",
        "outputId": "2936f27e-800f-4839-af27-ee437879f06e"
      },
      "execution_count": 4,
      "outputs": [
        {
          "output_type": "stream",
          "name": "stdout",
          "text": [
            "Best Parameters: {'criterion': 'gini', 'max_depth': 5, 'min_samples_leaf': 1, 'min_samples_split': 2, 'n_estimators': 50}\n"
          ]
        }
      ]
    },
    {
      "cell_type": "markdown",
      "source": [
        "## Accuracy Assessment - Confusion Matrix & ROC"
      ],
      "metadata": {
        "id": "qVoTex9BHaNS"
      }
    },
    {
      "cell_type": "code",
      "source": [
        "# Confusion Matrix\n",
        "conf_matrix = confusion_matrix(y_test, y_pred)\n",
        "plt.figure(figsize=(5, 4))\n",
        "sns.heatmap(conf_matrix, annot=True, fmt='d', cmap='Blues', xticklabels=[\"Class 0\", \"Class 1\"], yticklabels=[\"Class 0\", \"Class 1\"])\n",
        "plt.xlabel(\"Predicted\")\n",
        "plt.ylabel(\"Actual\")\n",
        "plt.title(\"Confusion Matrix\")\n",
        "plt.show()\n",
        "\n",
        "# Classification Report\n",
        "print(\"Classification Report:\\n\", classification_report(y_test, y_pred))\n",
        "\n",
        "# ROC Curve\n",
        "fpr, tpr, _ = roc_curve(y_test, y_prob)\n",
        "roc_auc = auc(fpr, tpr)\n",
        "\n",
        "plt.figure(figsize=(6, 5))\n",
        "plt.plot(fpr, tpr, color=\"blue\", label=f\"ROC Curve (AUC = {roc_auc:.2f})\")\n",
        "plt.plot([0, 1], [0, 1], color=\"gray\", linestyle=\"--\")\n",
        "plt.xlabel(\"False Positive Rate\")\n",
        "plt.ylabel(\"True Positive Rate\")\n",
        "plt.title(\"ROC Curve\")\n",
        "plt.legend()\n",
        "plt.show()\n"
      ],
      "metadata": {
        "colab": {
          "base_uri": "https://localhost:8080/",
          "height": 1000
        },
        "id": "7Io_LqrnHdwQ",
        "outputId": "99dd235b-04d8-4cf8-b93e-9f4921249622"
      },
      "execution_count": 5,
      "outputs": [
        {
          "output_type": "display_data",
          "data": {
            "text/plain": [
              "<Figure size 500x400 with 2 Axes>"
            ],
            "image/png": "[encoded data removed]"
          },
          "metadata": {}
        },
        {
          "output_type": "stream",
          "name": "stdout",
          "text": [
            "Classification Report:\n",
            "               precision    recall  f1-score   support\n",
            "\n",
            "           0       0.88      0.78      0.82        18\n",
            "           1       0.67      0.80      0.73        10\n",
            "\n",
            "    accuracy                           0.79        28\n",
            "   macro avg       0.77      0.79      0.78        28\n",
            "weighted avg       0.80      0.79      0.79        28\n",
            "\n"
          ]
        },
        {
          "output_type": "display_data",
          "data": {
            "text/plain": [
              "<Figure size 600x500 with 1 Axes>"
            ],
            "image/png": "[encoded data removed]"
          },
          "metadata": {}
        }
      ]
    },
    {
      "cell_type": "markdown",
      "source": [
        "## View the first three trees"
      ],
      "metadata": {
        "id": "_1uvwfGDHsb6"
      }
    },
    {
      "cell_type": "code",
      "source": [
        "# Tree Visualisation\n",
        "from sklearn.tree import export_graphviz\n",
        "from IPython.display import Image\n",
        "import graphviz\n",
        "\n",
        "# Visualizing the First Three Decision Trees\n",
        "for i in range(3):\n",
        "    tree = best_rf.estimators_[i]\n",
        "    dot_data = export_graphviz(tree,\n",
        "                               feature_names=X_train.columns,\n",
        "                               filled=True,\n",
        "                               max_depth=2,\n",
        "                               impurity=False,\n",
        "                               proportion=True)\n",
        "    graph = graphviz.Source(dot_data)\n",
        "    display(graph)"
      ],
      "metadata": {
        "colab": {
          "base_uri": "https://localhost:8080/",
          "height": 1000
        },
        "id": "Z1uxVelnHwPA",
        "outputId": "de13dad4-6438-4ab9-e273-7fcfd500189e"
      },
      "execution_count": 6,
      "outputs": [
        {
          "output_type": "display_data",
          "data": {
            "image/svg+xml": "<?xml version=\"1.0\" encoding=\"UTF-8\" standalone=\"no\"?>\n<!DOCTYPE svg PUBLIC \"-//W3C//DTD SVG 1.1//EN\"\n \"http://www.w3.org/Graphics/SVG/1.1/DTD/svg11.dtd\">\n<!-- Generated by graphviz version 2.43.0 (0)\n -->\n<!-- Title: Tree Pages: 1 -->\n<svg width=\"392pt\" height=\"311pt\"\n viewBox=\"0.00 0.00 391.50 311.00\" xmlns=\"http://www.w3.org/2000/svg\" xmlns:xlink=\"http://www.w3.org/1999/xlink\">\n<g id=\"graph0\" class=\"graph\" transform=\"scale(1 1) rotate(0) translate(4 307)\">\n<title>Tree</title>\n<polygon fill=\"white\" stroke=\"transparent\" points=\"-4,4 -4,-307 387.5,-307 387.5,4 -4,4\"/>\n<!-- 0 -->\n<g id=\"node1\" class=\"node\">\n<title>0</title>\n<polygon fill=\"#f9fcfe\" stroke=\"black\" points=\"313,-303 166,-303 166,-250 313,-250 313,-303\"/>\n<text text-anchor=\"middle\" x=\"239.5\" y=\"-287.8\" font-family=\"Helvetica,sans-Serif\" font-size=\"14.00\">Damage &lt;= 0.5</text>\n<text text-anchor=\"middle\" x=\"239.5\" y=\"-272.8\" font-family=\"Helvetica,sans-Serif\" font-size=\"14.00\">samples = 100.0%</text>\n<text text-anchor=\"middle\" x=\"239.5\" y=\"-257.8\" font-family=\"Helvetica,sans-Serif\" font-size=\"14.00\">value = [0.492, 0.508]</text>\n</g>\n<!-- 1 -->\n<g id=\"node2\" class=\"node\">\n<title>1</title>\n<polygon fill=\"#a5d2f3\" stroke=\"black\" points=\"243.5,-214 69.5,-214 69.5,-161 243.5,-161 243.5,-214\"/>\n<text text-anchor=\"middle\" x=\"156.5\" y=\"-198.8\" font-family=\"Helvetica,sans-Serif\" font-size=\"14.00\">Number of Owners &lt;= 2.5</text>\n<text text-anchor=\"middle\" x=\"156.5\" y=\"-183.8\" font-family=\"Helvetica,sans-Serif\" font-size=\"14.00\">samples = 79.5%</text>\n<text text-anchor=\"middle\" x=\"156.5\" y=\"-168.8\" font-family=\"Helvetica,sans-Serif\" font-size=\"14.00\">value = [0.353, 0.647]</text>\n</g>\n<!-- 0&#45;&gt;1 -->\n<g id=\"edge1\" class=\"edge\">\n<title>0&#45;&gt;1</title>\n<path fill=\"none\" stroke=\"black\" d=\"M215.05,-249.87C206.59,-241.01 197,-230.95 188.06,-221.58\"/>\n<polygon fill=\"black\" stroke=\"black\" points=\"190.5,-219.07 181.07,-214.25 185.44,-223.9 190.5,-219.07\"/>\n<text text-anchor=\"middle\" x=\"180.48\" y=\"-235.54\" font-family=\"Helvetica,sans-Serif\" font-size=\"14.00\">True</text>\n</g>\n<!-- 20 -->\n<g id=\"node9\" class=\"node\">\n<title>20</title>\n<polygon fill=\"#e58139\" stroke=\"black\" points=\"383.5,-206.5 261.5,-206.5 261.5,-168.5 383.5,-168.5 383.5,-206.5\"/>\n<text text-anchor=\"middle\" x=\"322.5\" y=\"-191.3\" font-family=\"Helvetica,sans-Serif\" font-size=\"14.00\">samples = 20.5%</text>\n<text text-anchor=\"middle\" x=\"322.5\" y=\"-176.3\" font-family=\"Helvetica,sans-Serif\" font-size=\"14.00\">value = [1.0, 0.0]</text>\n</g>\n<!-- 0&#45;&gt;20 -->\n<g id=\"edge8\" class=\"edge\">\n<title>0&#45;&gt;20</title>\n<path fill=\"none\" stroke=\"black\" d=\"M263.95,-249.87C274.75,-238.55 287.42,-225.27 298.2,-213.97\"/>\n<polygon fill=\"black\" stroke=\"black\" points=\"300.95,-216.16 305.32,-206.51 295.89,-211.33 300.95,-216.16\"/>\n<text text-anchor=\"middle\" x=\"305.91\" y=\"-227.8\" font-family=\"Helvetica,sans-Serif\" font-size=\"14.00\">False</text>\n</g>\n<!-- 2 -->\n<g id=\"node3\" class=\"node\">\n<title>2</title>\n<polygon fill=\"#99ccf2\" stroke=\"black\" points=\"147,-125 0,-125 0,-72 147,-72 147,-125\"/>\n<text text-anchor=\"middle\" x=\"73.5\" y=\"-109.8\" font-family=\"Helvetica,sans-Serif\" font-size=\"14.00\">Body_Sedan &lt;= 0.5</text>\n<text text-anchor=\"middle\" x=\"73.5\" y=\"-94.8\" font-family=\"Helvetica,sans-Serif\" font-size=\"14.00\">samples = 70.5%</text>\n<text text-anchor=\"middle\" x=\"73.5\" y=\"-79.8\" font-family=\"Helvetica,sans-Serif\" font-size=\"14.00\">value = [0.326, 0.674]</text>\n</g>\n<!-- 1&#45;&gt;2 -->\n<g id=\"edge2\" class=\"edge\">\n<title>1&#45;&gt;2</title>\n<path fill=\"none\" stroke=\"black\" d=\"M132.05,-160.87C123.59,-152.01 114,-141.95 105.06,-132.58\"/>\n<polygon fill=\"black\" stroke=\"black\" points=\"107.5,-130.07 98.07,-125.25 102.44,-134.9 107.5,-130.07\"/>\n</g>\n<!-- 13 -->\n<g id=\"node6\" class=\"node\">\n<title>13</title>\n<polygon fill=\"#f6d5bd\" stroke=\"black\" points=\"315.5,-125 165.5,-125 165.5,-72 315.5,-72 315.5,-125\"/>\n<text text-anchor=\"middle\" x=\"240.5\" y=\"-109.8\" font-family=\"Helvetica,sans-Serif\" font-size=\"14.00\">Make_Hyundai &lt;= 0.5</text>\n<text text-anchor=\"middle\" x=\"240.5\" y=\"-94.8\" font-family=\"Helvetica,sans-Serif\" font-size=\"14.00\">samples = 9.1%</text>\n<text text-anchor=\"middle\" x=\"240.5\" y=\"-79.8\" font-family=\"Helvetica,sans-Serif\" font-size=\"14.00\">value = [0.6, 0.4]</text>\n</g>\n<!-- 1&#45;&gt;13 -->\n<g id=\"edge5\" class=\"edge\">\n<title>1&#45;&gt;13</title>\n<path fill=\"none\" stroke=\"black\" d=\"M181.25,-160.87C189.8,-152.01 199.51,-141.95 208.56,-132.58\"/>\n<polygon fill=\"black\" stroke=\"black\" points=\"211.21,-134.87 215.64,-125.25 206.17,-130.01 211.21,-134.87\"/>\n</g>\n<!-- 3 -->\n<g id=\"node4\" class=\"node\">\n<title>3</title>\n<polygon fill=\"#c0c0c0\" stroke=\"black\" points=\"76.5,-36 22.5,-36 22.5,0 76.5,0 76.5,-36\"/>\n<text text-anchor=\"middle\" x=\"49.5\" y=\"-14.3\" font-family=\"Helvetica,sans-Serif\" font-size=\"14.00\">(...)</text>\n</g>\n<!-- 2&#45;&gt;3 -->\n<g id=\"edge3\" class=\"edge\">\n<title>2&#45;&gt;3</title>\n<path fill=\"none\" stroke=\"black\" d=\"M65.64,-71.8C63.11,-63.53 60.31,-54.35 57.75,-46\"/>\n<polygon fill=\"black\" stroke=\"black\" points=\"61.07,-44.87 54.8,-36.33 54.38,-46.92 61.07,-44.87\"/>\n</g>\n<!-- 8 -->\n<g id=\"node5\" class=\"node\">\n<title>8</title>\n<polygon fill=\"#c0c0c0\" stroke=\"black\" points=\"148.5,-36 94.5,-36 94.5,0 148.5,0 148.5,-36\"/>\n<text text-anchor=\"middle\" x=\"121.5\" y=\"-14.3\" font-family=\"Helvetica,sans-Serif\" font-size=\"14.00\">(...)</text>\n</g>\n<!-- 2&#45;&gt;8 -->\n<g id=\"edge4\" class=\"edge\">\n<title>2&#45;&gt;8</title>\n<path fill=\"none\" stroke=\"black\" d=\"M89.22,-71.8C94.49,-63.17 100.38,-53.54 105.66,-44.9\"/>\n<polygon fill=\"black\" stroke=\"black\" points=\"108.67,-46.69 110.9,-36.33 102.7,-43.04 108.67,-46.69\"/>\n</g>\n<!-- 14 -->\n<g id=\"node7\" class=\"node\">\n<title>14</title>\n<polygon fill=\"#c0c0c0\" stroke=\"black\" points=\"243.5,-36 189.5,-36 189.5,0 243.5,0 243.5,-36\"/>\n<text text-anchor=\"middle\" x=\"216.5\" y=\"-14.3\" font-family=\"Helvetica,sans-Serif\" font-size=\"14.00\">(...)</text>\n</g>\n<!-- 13&#45;&gt;14 -->\n<g id=\"edge6\" class=\"edge\">\n<title>13&#45;&gt;14</title>\n<path fill=\"none\" stroke=\"black\" d=\"M232.64,-71.8C230.11,-63.53 227.31,-54.35 224.75,-46\"/>\n<polygon fill=\"black\" stroke=\"black\" points=\"228.07,-44.87 221.8,-36.33 221.38,-46.92 228.07,-44.87\"/>\n</g>\n<!-- 19 -->\n<g id=\"node8\" class=\"node\">\n<title>19</title>\n<polygon fill=\"#c0c0c0\" stroke=\"black\" points=\"315.5,-36 261.5,-36 261.5,0 315.5,0 315.5,-36\"/>\n<text text-anchor=\"middle\" x=\"288.5\" y=\"-14.3\" font-family=\"Helvetica,sans-Serif\" font-size=\"14.00\">(...)</text>\n</g>\n<!-- 13&#45;&gt;19 -->\n<g id=\"edge7\" class=\"edge\">\n<title>13&#45;&gt;19</title>\n<path fill=\"none\" stroke=\"black\" d=\"M256.22,-71.8C261.49,-63.17 267.38,-53.54 272.66,-44.9\"/>\n<polygon fill=\"black\" stroke=\"black\" points=\"275.67,-46.69 277.9,-36.33 269.7,-43.04 275.67,-46.69\"/>\n</g>\n</g>\n</svg>\n",
            "text/plain": [
              "<graphviz.sources.Source at 0x78282d3fb350>"
            ]
          },
          "metadata": {}
        },
        {
          "output_type": "display_data",
          "data": {
            "image/svg+xml": "<?xml version=\"1.0\" encoding=\"UTF-8\" standalone=\"no\"?>\n<!DOCTYPE svg PUBLIC \"-//W3C//DTD SVG 1.1//EN\"\n \"http://www.w3.org/Graphics/SVG/1.1/DTD/svg11.dtd\">\n<!-- Generated by graphviz version 2.43.0 (0)\n -->\n<!-- Title: Tree Pages: 1 -->\n<svg width=\"372pt\" height=\"311pt\"\n viewBox=\"0.00 0.00 371.50 311.00\" xmlns=\"http://www.w3.org/2000/svg\" xmlns:xlink=\"http://www.w3.org/1999/xlink\">\n<g id=\"graph0\" class=\"graph\" transform=\"scale(1 1) rotate(0) translate(4 307)\">\n<title>Tree</title>\n<polygon fill=\"white\" stroke=\"transparent\" points=\"-4,4 -4,-307 367.5,-307 367.5,4 -4,4\"/>\n<!-- 0 -->\n<g id=\"node1\" class=\"node\">\n<title>0</title>\n<polygon fill=\"#fdf4ee\" stroke=\"black\" points=\"299,-303 152,-303 152,-250 299,-250 299,-303\"/>\n<text text-anchor=\"middle\" x=\"225.5\" y=\"-287.8\" font-family=\"Helvetica,sans-Serif\" font-size=\"14.00\">Damage &lt;= 0.5</text>\n<text text-anchor=\"middle\" x=\"225.5\" y=\"-272.8\" font-family=\"Helvetica,sans-Serif\" font-size=\"14.00\">samples = 100.0%</text>\n<text text-anchor=\"middle\" x=\"225.5\" y=\"-257.8\" font-family=\"Helvetica,sans-Serif\" font-size=\"14.00\">value = [0.523, 0.477]</text>\n</g>\n<!-- 1 -->\n<g id=\"node2\" class=\"node\">\n<title>1</title>\n<polygon fill=\"#99ccf2\" stroke=\"black\" points=\"223,-214 76,-214 76,-161 223,-161 223,-214\"/>\n<text text-anchor=\"middle\" x=\"149.5\" y=\"-198.8\" font-family=\"Helvetica,sans-Serif\" font-size=\"14.00\">Make_Ford &lt;= 0.5</text>\n<text text-anchor=\"middle\" x=\"149.5\" y=\"-183.8\" font-family=\"Helvetica,sans-Serif\" font-size=\"14.00\">samples = 65.0%</text>\n<text text-anchor=\"middle\" x=\"149.5\" y=\"-168.8\" font-family=\"Helvetica,sans-Serif\" font-size=\"14.00\">value = [0.326, 0.674]</text>\n</g>\n<!-- 0&#45;&gt;1 -->\n<g id=\"edge1\" class=\"edge\">\n<title>0&#45;&gt;1</title>\n<path fill=\"none\" stroke=\"black\" d=\"M203.11,-249.87C195.45,-241.1 186.76,-231.15 178.64,-221.86\"/>\n<polygon fill=\"black\" stroke=\"black\" points=\"181.21,-219.48 171.99,-214.25 175.94,-224.08 181.21,-219.48\"/>\n<text text-anchor=\"middle\" x=\"170.31\" y=\"-235.49\" font-family=\"Helvetica,sans-Serif\" font-size=\"14.00\">True</text>\n</g>\n<!-- 10 -->\n<g id=\"node7\" class=\"node\">\n<title>10</title>\n<polygon fill=\"#e58139\" stroke=\"black\" points=\"363.5,-206.5 241.5,-206.5 241.5,-168.5 363.5,-168.5 363.5,-206.5\"/>\n<text text-anchor=\"middle\" x=\"302.5\" y=\"-191.3\" font-family=\"Helvetica,sans-Serif\" font-size=\"14.00\">samples = 35.0%</text>\n<text text-anchor=\"middle\" x=\"302.5\" y=\"-176.3\" font-family=\"Helvetica,sans-Serif\" font-size=\"14.00\">value = [1.0, 0.0]</text>\n</g>\n<!-- 0&#45;&gt;10 -->\n<g id=\"edge6\" class=\"edge\">\n<title>0&#45;&gt;10</title>\n<path fill=\"none\" stroke=\"black\" d=\"M248.19,-249.87C258.11,-238.66 269.73,-225.53 279.67,-214.29\"/>\n<polygon fill=\"black\" stroke=\"black\" points=\"282.56,-216.31 286.56,-206.51 277.31,-211.68 282.56,-216.31\"/>\n<text text-anchor=\"middle\" x=\"288.08\" y=\"-227.76\" font-family=\"Helvetica,sans-Serif\" font-size=\"14.00\">False</text>\n</g>\n<!-- 2 -->\n<g id=\"node3\" class=\"node\">\n<title>2</title>\n<polygon fill=\"#b0d8f5\" stroke=\"black\" points=\"147,-125 0,-125 0,-72 147,-72 147,-125\"/>\n<text text-anchor=\"middle\" x=\"73.5\" y=\"-109.8\" font-family=\"Helvetica,sans-Serif\" font-size=\"14.00\">Make_Jeep &lt;= 0.5</text>\n<text text-anchor=\"middle\" x=\"73.5\" y=\"-94.8\" font-family=\"Helvetica,sans-Serif\" font-size=\"14.00\">samples = 55.0%</text>\n<text text-anchor=\"middle\" x=\"73.5\" y=\"-79.8\" font-family=\"Helvetica,sans-Serif\" font-size=\"14.00\">value = [0.375, 0.625]</text>\n</g>\n<!-- 1&#45;&gt;2 -->\n<g id=\"edge2\" class=\"edge\">\n<title>1&#45;&gt;2</title>\n<path fill=\"none\" stroke=\"black\" d=\"M127.11,-160.87C119.45,-152.1 110.76,-142.15 102.64,-132.86\"/>\n<polygon fill=\"black\" stroke=\"black\" points=\"105.21,-130.48 95.99,-125.25 99.94,-135.08 105.21,-130.48\"/>\n</g>\n<!-- 9 -->\n<g id=\"node6\" class=\"node\">\n<title>9</title>\n<polygon fill=\"#399de5\" stroke=\"black\" points=\"287.5,-117.5 165.5,-117.5 165.5,-79.5 287.5,-79.5 287.5,-117.5\"/>\n<text text-anchor=\"middle\" x=\"226.5\" y=\"-102.3\" font-family=\"Helvetica,sans-Serif\" font-size=\"14.00\">samples = 10.0%</text>\n<text text-anchor=\"middle\" x=\"226.5\" y=\"-87.3\" font-family=\"Helvetica,sans-Serif\" font-size=\"14.00\">value = [0.0, 1.0]</text>\n</g>\n<!-- 1&#45;&gt;9 -->\n<g id=\"edge5\" class=\"edge\">\n<title>1&#45;&gt;9</title>\n<path fill=\"none\" stroke=\"black\" d=\"M172.19,-160.87C182.11,-149.66 193.73,-136.53 203.67,-125.29\"/>\n<polygon fill=\"black\" stroke=\"black\" points=\"206.56,-127.31 210.56,-117.51 201.31,-122.68 206.56,-127.31\"/>\n</g>\n<!-- 3 -->\n<g id=\"node4\" class=\"node\">\n<title>3</title>\n<polygon fill=\"#c0c0c0\" stroke=\"black\" points=\"64.5,-36 10.5,-36 10.5,0 64.5,0 64.5,-36\"/>\n<text text-anchor=\"middle\" x=\"37.5\" y=\"-14.3\" font-family=\"Helvetica,sans-Serif\" font-size=\"14.00\">(...)</text>\n</g>\n<!-- 2&#45;&gt;3 -->\n<g id=\"edge3\" class=\"edge\">\n<title>2&#45;&gt;3</title>\n<path fill=\"none\" stroke=\"black\" d=\"M61.71,-71.8C57.84,-63.35 53.53,-53.95 49.63,-45.45\"/>\n<polygon fill=\"black\" stroke=\"black\" points=\"52.8,-43.96 45.45,-36.33 46.43,-46.88 52.8,-43.96\"/>\n</g>\n<!-- 8 -->\n<g id=\"node5\" class=\"node\">\n<title>8</title>\n<polygon fill=\"#c0c0c0\" stroke=\"black\" points=\"136.5,-36 82.5,-36 82.5,0 136.5,0 136.5,-36\"/>\n<text text-anchor=\"middle\" x=\"109.5\" y=\"-14.3\" font-family=\"Helvetica,sans-Serif\" font-size=\"14.00\">(...)</text>\n</g>\n<!-- 2&#45;&gt;8 -->\n<g id=\"edge4\" class=\"edge\">\n<title>2&#45;&gt;8</title>\n<path fill=\"none\" stroke=\"black\" d=\"M85.29,-71.8C89.16,-63.35 93.47,-53.95 97.37,-45.45\"/>\n<polygon fill=\"black\" stroke=\"black\" points=\"100.57,-46.88 101.55,-36.33 94.2,-43.96 100.57,-46.88\"/>\n</g>\n</g>\n</svg>\n",
            "text/plain": [
              "<graphviz.sources.Source at 0x78282c9ef890>"
            ]
          },
          "metadata": {}
        },
        {
          "output_type": "display_data",
          "data": {
            "image/svg+xml": "<?xml version=\"1.0\" encoding=\"UTF-8\" standalone=\"no\"?>\n<!DOCTYPE svg PUBLIC \"-//W3C//DTD SVG 1.1//EN\"\n \"http://www.w3.org/Graphics/SVG/1.1/DTD/svg11.dtd\">\n<!-- Generated by graphviz version 2.43.0 (0)\n -->\n<!-- Title: Tree Pages: 1 -->\n<svg width=\"359pt\" height=\"311pt\"\n viewBox=\"0.00 0.00 359.00 311.00\" xmlns=\"http://www.w3.org/2000/svg\" xmlns:xlink=\"http://www.w3.org/1999/xlink\">\n<g id=\"graph0\" class=\"graph\" transform=\"scale(1 1) rotate(0) translate(4 307)\">\n<title>Tree</title>\n<polygon fill=\"white\" stroke=\"transparent\" points=\"-4,4 -4,-307 355,-307 355,4 -4,4\"/>\n<!-- 0 -->\n<g id=\"node1\" class=\"node\">\n<title>0</title>\n<polygon fill=\"#fdf4ee\" stroke=\"black\" points=\"299.5,-303 141.5,-303 141.5,-250 299.5,-250 299.5,-303\"/>\n<text text-anchor=\"middle\" x=\"220.5\" y=\"-287.8\" font-family=\"Helvetica,sans-Serif\" font-size=\"14.00\">Make_Chevrolet &lt;= 0.5</text>\n<text text-anchor=\"middle\" x=\"220.5\" y=\"-272.8\" font-family=\"Helvetica,sans-Serif\" font-size=\"14.00\">samples = 100.0%</text>\n<text text-anchor=\"middle\" x=\"220.5\" y=\"-257.8\" font-family=\"Helvetica,sans-Serif\" font-size=\"14.00\">value = [0.523, 0.477]</text>\n</g>\n<!-- 1 -->\n<g id=\"node2\" class=\"node\">\n<title>1</title>\n<polygon fill=\"#ffffff\" stroke=\"black\" points=\"216,-214 81,-214 81,-161 216,-161 216,-214\"/>\n<text text-anchor=\"middle\" x=\"148.5\" y=\"-198.8\" font-family=\"Helvetica,sans-Serif\" font-size=\"14.00\">Make_BMW &lt;= 0.5</text>\n<text text-anchor=\"middle\" x=\"148.5\" y=\"-183.8\" font-family=\"Helvetica,sans-Serif\" font-size=\"14.00\">samples = 95.1%</text>\n<text text-anchor=\"middle\" x=\"148.5\" y=\"-168.8\" font-family=\"Helvetica,sans-Serif\" font-size=\"14.00\">value = [0.5, 0.5]</text>\n</g>\n<!-- 0&#45;&gt;1 -->\n<g id=\"edge1\" class=\"edge\">\n<title>0&#45;&gt;1</title>\n<path fill=\"none\" stroke=\"black\" d=\"M199.29,-249.87C192.1,-241.18 183.96,-231.35 176.34,-222.14\"/>\n<polygon fill=\"black\" stroke=\"black\" points=\"178.88,-219.72 169.81,-214.25 173.49,-224.19 178.88,-219.72\"/>\n<text text-anchor=\"middle\" x=\"167.46\" y=\"-235.44\" font-family=\"Helvetica,sans-Serif\" font-size=\"14.00\">True</text>\n</g>\n<!-- 10 -->\n<g id=\"node7\" class=\"node\">\n<title>10</title>\n<polygon fill=\"#e58139\" stroke=\"black\" points=\"351,-206.5 234,-206.5 234,-168.5 351,-168.5 351,-206.5\"/>\n<text text-anchor=\"middle\" x=\"292.5\" y=\"-191.3\" font-family=\"Helvetica,sans-Serif\" font-size=\"14.00\">samples = 4.9%</text>\n<text text-anchor=\"middle\" x=\"292.5\" y=\"-176.3\" font-family=\"Helvetica,sans-Serif\" font-size=\"14.00\">value = [1.0, 0.0]</text>\n</g>\n<!-- 0&#45;&gt;10 -->\n<g id=\"edge6\" class=\"edge\">\n<title>0&#45;&gt;10</title>\n<path fill=\"none\" stroke=\"black\" d=\"M241.71,-249.87C250.99,-238.66 261.86,-225.53 271.15,-214.29\"/>\n<polygon fill=\"black\" stroke=\"black\" points=\"273.92,-216.44 277.6,-206.51 268.53,-211.98 273.92,-216.44\"/>\n<text text-anchor=\"middle\" x=\"279.95\" y=\"-227.7\" font-family=\"Helvetica,sans-Serif\" font-size=\"14.00\">False</text>\n</g>\n<!-- 2 -->\n<g id=\"node3\" class=\"node\">\n<title>2</title>\n<polygon fill=\"#fdf7f2\" stroke=\"black\" points=\"147,-125 0,-125 0,-72 147,-72 147,-125\"/>\n<text text-anchor=\"middle\" x=\"73.5\" y=\"-109.8\" font-family=\"Helvetica,sans-Serif\" font-size=\"14.00\">Body_Coupe &lt;= 0.5</text>\n<text text-anchor=\"middle\" x=\"73.5\" y=\"-94.8\" font-family=\"Helvetica,sans-Serif\" font-size=\"14.00\">samples = 92.7%</text>\n<text text-anchor=\"middle\" x=\"73.5\" y=\"-79.8\" font-family=\"Helvetica,sans-Serif\" font-size=\"14.00\">value = [0.517, 0.483]</text>\n</g>\n<!-- 1&#45;&gt;2 -->\n<g id=\"edge2\" class=\"edge\">\n<title>1&#45;&gt;2</title>\n<path fill=\"none\" stroke=\"black\" d=\"M126.4,-160.87C118.84,-152.1 110.27,-142.15 102.26,-132.86\"/>\n<polygon fill=\"black\" stroke=\"black\" points=\"104.88,-130.54 95.7,-125.25 99.58,-135.11 104.88,-130.54\"/>\n</g>\n<!-- 9 -->\n<g id=\"node6\" class=\"node\">\n<title>9</title>\n<polygon fill=\"#399de5\" stroke=\"black\" points=\"282,-117.5 165,-117.5 165,-79.5 282,-79.5 282,-117.5\"/>\n<text text-anchor=\"middle\" x=\"223.5\" y=\"-102.3\" font-family=\"Helvetica,sans-Serif\" font-size=\"14.00\">samples = 2.4%</text>\n<text text-anchor=\"middle\" x=\"223.5\" y=\"-87.3\" font-family=\"Helvetica,sans-Serif\" font-size=\"14.00\">value = [0.0, 1.0]</text>\n</g>\n<!-- 1&#45;&gt;9 -->\n<g id=\"edge5\" class=\"edge\">\n<title>1&#45;&gt;9</title>\n<path fill=\"none\" stroke=\"black\" d=\"M170.6,-160.87C180.26,-149.66 191.58,-136.53 201.26,-125.29\"/>\n<polygon fill=\"black\" stroke=\"black\" points=\"204.1,-127.37 207.98,-117.51 198.8,-122.8 204.1,-127.37\"/>\n</g>\n<!-- 3 -->\n<g id=\"node4\" class=\"node\">\n<title>3</title>\n<polygon fill=\"#c0c0c0\" stroke=\"black\" points=\"64.5,-36 10.5,-36 10.5,0 64.5,0 64.5,-36\"/>\n<text text-anchor=\"middle\" x=\"37.5\" y=\"-14.3\" font-family=\"Helvetica,sans-Serif\" font-size=\"14.00\">(...)</text>\n</g>\n<!-- 2&#45;&gt;3 -->\n<g id=\"edge3\" class=\"edge\">\n<title>2&#45;&gt;3</title>\n<path fill=\"none\" stroke=\"black\" d=\"M61.71,-71.8C57.84,-63.35 53.53,-53.95 49.63,-45.45\"/>\n<polygon fill=\"black\" stroke=\"black\" points=\"52.8,-43.96 45.45,-36.33 46.43,-46.88 52.8,-43.96\"/>\n</g>\n<!-- 8 -->\n<g id=\"node5\" class=\"node\">\n<title>8</title>\n<polygon fill=\"#c0c0c0\" stroke=\"black\" points=\"136.5,-36 82.5,-36 82.5,0 136.5,0 136.5,-36\"/>\n<text text-anchor=\"middle\" x=\"109.5\" y=\"-14.3\" font-family=\"Helvetica,sans-Serif\" font-size=\"14.00\">(...)</text>\n</g>\n<!-- 2&#45;&gt;8 -->\n<g id=\"edge4\" class=\"edge\">\n<title>2&#45;&gt;8</title>\n<path fill=\"none\" stroke=\"black\" d=\"M85.29,-71.8C89.16,-63.35 93.47,-53.95 97.37,-45.45\"/>\n<polygon fill=\"black\" stroke=\"black\" points=\"100.57,-46.88 101.55,-36.33 94.2,-43.96 100.57,-46.88\"/>\n</g>\n</g>\n</svg>\n",
            "text/plain": [
              "<graphviz.sources.Source at 0x78282c0ec910>"
            ]
          },
          "metadata": {}
        }
      ]
    },
    {
      "cell_type": "code",
      "source": [],
      "metadata": {
        "id": "q2_JQ56Cbrdr"
      },
      "execution_count": null,
      "outputs": []
    }
  ]
}