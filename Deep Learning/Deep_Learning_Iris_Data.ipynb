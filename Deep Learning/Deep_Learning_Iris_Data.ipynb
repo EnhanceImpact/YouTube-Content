{
 "cells": [
  {
   "cell_type": "markdown",
   "id": "58423d82-ed3a-4482-96ca-e636374f1136",
   "metadata": {},
   "source": [
    "## Deep Learning -  Iris Flower Dataset for Building Classification Model"
   ]
  },
  {
   "cell_type": "markdown",
   "id": "5e52e774-e43f-4976-888c-a09d3b9948d5",
   "metadata": {},
   "source": [
    "### 5.1 Setup "
   ]
  },
  {
   "cell_type": "code",
   "execution_count": 3,
   "id": "eed85b83-3b70-42f8-9ef1-051b4db6a4d4",
   "metadata": {},
   "outputs": [
    {
     "name": "stdout",
     "output_type": "stream",
     "text": [
      "Collecting scikit-learn\n",
      "  Downloading scikit_learn-1.3.2-cp38-cp38-win_amd64.whl.metadata (11 kB)\n",
      "Requirement already satisfied: numpy<2.0,>=1.17.3 in c:\\users\\frwil\\anaconda3\\envs\\deeplearning\\lib\\site-packages (from scikit-learn) (1.23.5)\n",
      "Requirement already satisfied: scipy>=1.5.0 in c:\\users\\frwil\\anaconda3\\envs\\deeplearning\\lib\\site-packages (from scikit-learn) (1.10.1)\n",
      "Collecting joblib>=1.1.1 (from scikit-learn)\n",
      "  Downloading joblib-1.4.2-py3-none-any.whl.metadata (5.4 kB)\n",
      "Collecting threadpoolctl>=2.0.0 (from scikit-learn)\n",
      "  Downloading threadpoolctl-3.5.0-py3-none-any.whl.metadata (13 kB)\n",
      "Downloading scikit_learn-1.3.2-cp38-cp38-win_amd64.whl (9.3 MB)\n",
      "   ---------------------------------------- 0.0/9.3 MB ? eta -:--:--\n",
      "   -------------------- ------------------- 4.7/9.3 MB 25.9 MB/s eta 0:00:01\n",
      "   ---------------------------------------  9.2/9.3 MB 25.9 MB/s eta 0:00:01\n",
      "   ---------------------------------------- 9.3/9.3 MB 22.2 MB/s eta 0:00:00\n",
      "Downloading joblib-1.4.2-py3-none-any.whl (301 kB)\n",
      "Downloading threadpoolctl-3.5.0-py3-none-any.whl (18 kB)\n",
      "Installing collected packages: threadpoolctl, joblib, scikit-learn\n",
      "Successfully installed joblib-1.4.2 scikit-learn-1.3.2 threadpoolctl-3.5.0\n"
     ]
    }
   ],
   "source": [
    "# Install libraries\n",
    "!pip install scikit-learn"
   ]
  },
  {
   "cell_type": "markdown",
   "id": "e00ebb50-6067-45a2-944c-d2e74b5cbef7",
   "metadata": {},
   "source": [
    "## Prepare Input Data for Deep Learning\n",
    "1. Load data into pandas dataframe\n",
    "2. Convert the dataframe to a numpy array\n",
    "3. Scale the feature dataset\n",
    "4. Use one-hot-encoding for the target variable\n",
    "5. Split into training and test datasets"
   ]
  },
  {
   "cell_type": "code",
   "execution_count": 9,
   "id": "9a4ffb5d-4694-4bff-8af1-c2518c47f5de",
   "metadata": {},
   "outputs": [
    {
     "name": "stdout",
     "output_type": "stream",
     "text": [
      "\n",
      "Loaded Data: \n",
      "------------------------\n",
      "   Id  SepalLengthCm  SepalWidthCm  PetalLengthCm  PetalWidthCm      Species\n",
      "0   1            5.1           3.5            1.4           0.2  Iris-setosa\n",
      "1   2            4.9           3.0            1.4           0.2  Iris-setosa\n",
      "2   3            4.7           3.2            1.3           0.2  Iris-setosa\n",
      "3   4            4.6           3.1            1.5           0.2  Iris-setosa\n",
      "4   5            5.0           3.6            1.4           0.2  Iris-setosa\n",
      "\n",
      "Features before scaling :\n",
      "-------------------------\n",
      "[[5.1 3.5 1.4 0.2]\n",
      " [4.9 3.  1.4 0.2]\n",
      " [4.7 3.2 1.3 0.2]\n",
      " [4.6 3.1 1.5 0.2]\n",
      " [5.  3.6 1.4 0.2]]\n",
      "\n",
      "Target before one-hot-encoding :\n",
      "-------------------------\n",
      "[0. 0. 0. 0. 0.]\n",
      "\n",
      "Features after scaling :\n",
      "-------------------------\n",
      "[[-0.90068117  1.03205722 -1.3412724  -1.31297673]\n",
      " [-1.14301691 -0.1249576  -1.3412724  -1.31297673]\n",
      " [-1.38535265  0.33784833 -1.39813811 -1.31297673]\n",
      " [-1.50652052  0.10644536 -1.2844067  -1.31297673]\n",
      " [-1.02184904  1.26346019 -1.3412724  -1.31297673]]\n",
      "\n",
      "Target after one-hot-encoding :\n",
      "-------------------------\n",
      "[[1. 0. 0.]\n",
      " [1. 0. 0.]\n",
      " [1. 0. 0.]\n",
      " [1. 0. 0.]\n",
      " [1. 0. 0.]]\n",
      "n\\Train_Test Dimensions:\n",
      "--------------------------\n",
      "(135, 4) (135, 3) (15, 4) (15, 3)\n"
     ]
    }
   ],
   "source": [
    "import pandas as pd \n",
    "import os\n",
    "import tensorflow as tf\n",
    "import numpy as np\n",
    "from sklearn.model_selection import train_test_split\n",
    "from sklearn.preprocessing import StandardScaler\n",
    "\n",
    "# Load Data and review content\n",
    "iris_data = pd.read_csv('Iris.csv')\n",
    "\n",
    "print(\"\\nLoaded Data: \\n------------------------\")\n",
    "print(iris_data.head())\n",
    "\n",
    "# Use a label encoder to convert string to numeric values\n",
    "# for the target varaible\n",
    "\n",
    "from sklearn import preprocessing \n",
    "label_encoder = preprocessing.LabelEncoder()\n",
    "iris_data['Species'] = label_encoder.fit_transform(\n",
    "    iris_data['Species'])\n",
    "\n",
    "# Convert input to numpy array\n",
    "np_iris = iris_data.to_numpy()\n",
    "\n",
    "# Separate feature and target variables\n",
    "X_data = np_iris[:,1:5]\n",
    "y_data = np_iris[:,5]\n",
    "\n",
    "print(\"\\nFeatures before scaling :\\n-------------------------\")\n",
    "print(X_data[:5,:])\n",
    "print(\"\\nTarget before one-hot-encoding :\\n-------------------------\")\n",
    "print(y_data[:5])\n",
    "\n",
    "# Create a scalar model that is fit on the input data.\n",
    "scaler = StandardScaler().fit(X_data)\n",
    "\n",
    "# Scale the numeric feature variables\n",
    "X_data = scaler.transform(X_data)\n",
    "\n",
    "# Convert target variable as a one-hot-encoding array\n",
    "y_data = tf.keras.utils.to_categorical(y_data,3)\n",
    "\n",
    "print(\"\\nFeatures after scaling :\\n-------------------------\")\n",
    "print(X_data[:5,:])\n",
    "print(\"\\nTarget after one-hot-encoding :\\n-------------------------\")\n",
    "print(y_data[:5])\n",
    "\n",
    "# Split training and test data\n",
    "X_train, X_test, y_train, y_test = train_test_split(X_data, y_data, test_size=0.10)\n",
    "\n",
    "print(\"n\\Train_Test Dimensions:\\n--------------------------\")\n",
    "print(X_train.shape, y_train.shape, X_test.shape, y_test.shape)\n",
    "\n"
   ]
  },
  {
   "cell_type": "markdown",
   "id": "573cd4d4-a294-4f5e-a741-c821a342f8ec",
   "metadata": {},
   "source": [
    "## Creating a Model\n",
    "##### Creating a model in Keras requires defining the following\n",
    "1. Number of hidden layers\n",
    "2. Number of nodes in each layer\n",
    "3. Activation functions\n",
    "4. Loss Function & Accuracy measurements"
   ]
  },
  {
   "cell_type": "code",
   "execution_count": 10,
   "id": "423a2531-6afd-4879-a157-8866b7d9d3de",
   "metadata": {},
   "outputs": [
    {
     "name": "stdout",
     "output_type": "stream",
     "text": [
      "Model: \"sequential\"\n",
      "_________________________________________________________________\n",
      "Layer (type)                 Output Shape              Param #   \n",
      "=================================================================\n",
      "Hidden-Layer-1 (Dense)       (None, 128)               640       \n",
      "_________________________________________________________________\n",
      "Hidden-Layer-2 (Dense)       (None, 128)               16512     \n",
      "_________________________________________________________________\n",
      "Output-Layer (Dense)         (None, 3)                 387       \n",
      "=================================================================\n",
      "Total params: 17,539\n",
      "Trainable params: 17,539\n",
      "Non-trainable params: 0\n",
      "_________________________________________________________________\n"
     ]
    }
   ],
   "source": [
    "from tensorflow import keras\n",
    "\n",
    "# Number of classes in the target variable\n",
    "NB_CLASSES=3\n",
    "\n",
    "# Create a sequential model in Keras\n",
    "model = tf.keras.models.Sequential()\n",
    "\n",
    "# Add the first hidden layer\n",
    "model.add(keras.layers.Dense(128,\n",
    "                             input_shape=(4,),\n",
    "                             name='Hidden-Layer-1',\n",
    "                             activation='relu'))\n",
    "# Add a second layer\n",
    "model.add(keras.layers.Dense(128,\n",
    "                             name='Hidden-Layer-2',\n",
    "                             activation='relu'))\n",
    "# Add an output layer with softmax activation\n",
    "model.add(keras.layers.Dense(NB_CLASSES, \n",
    "                             name='Output-Layer',\n",
    "                             activation='softmax'))\n",
    "# Compile the model with loss & metrics\n",
    "model.compile(loss='categorical_crossentropy',\n",
    "              metrics=['accuracy'])\n",
    "\n",
    "# Print the model meta-data\n",
    "model.summary()"
   ]
  },
  {
   "cell_type": "markdown",
   "id": "ae0b7a9b-68c8-4886-96d9-310a9332ac35",
   "metadata": {},
   "source": [
    "## Training and evaluating the model\n",
    "#### Training the model involves defining various training models and then perform forward and back propagation."
   ]
  },
  {
   "cell_type": "code",
   "execution_count": 11,
   "id": "e10b4ab0-e6ac-43ef-b45f-6aad634e16cd",
   "metadata": {},
   "outputs": [
    {
     "name": "stdout",
     "output_type": "stream",
     "text": [
      "\n",
      "Training Progress:\n",
      "--------------------\n",
      "Epoch 1/10\n",
      "7/7 [==============================] - 0s 15ms/step - loss: 0.8232 - accuracy: 0.7037 - val_loss: 0.4890 - val_accuracy: 0.8889\n",
      "Epoch 2/10\n",
      "7/7 [==============================] - 0s 2ms/step - loss: 0.5452 - accuracy: 0.8241 - val_loss: 0.3900 - val_accuracy: 0.8889\n",
      "Epoch 3/10\n",
      "7/7 [==============================] - 0s 2ms/step - loss: 0.4493 - accuracy: 0.8241 - val_loss: 0.3401 - val_accuracy: 0.8889\n",
      "Epoch 4/10\n",
      "7/7 [==============================] - 0s 2ms/step - loss: 0.3921 - accuracy: 0.8333 - val_loss: 0.3001 - val_accuracy: 0.8519\n",
      "Epoch 5/10\n",
      "7/7 [==============================] - 0s 2ms/step - loss: 0.3483 - accuracy: 0.8796 - val_loss: 0.2638 - val_accuracy: 0.8519\n",
      "Epoch 6/10\n",
      "7/7 [==============================] - 0s 2ms/step - loss: 0.3198 - accuracy: 0.8611 - val_loss: 0.2648 - val_accuracy: 0.8889\n",
      "Epoch 7/10\n",
      "7/7 [==============================] - 0s 2ms/step - loss: 0.2950 - accuracy: 0.8889 - val_loss: 0.2494 - val_accuracy: 0.8889\n",
      "Epoch 8/10\n",
      "7/7 [==============================] - 0s 2ms/step - loss: 0.2643 - accuracy: 0.8889 - val_loss: 0.2381 - val_accuracy: 0.8889\n",
      "Epoch 9/10\n",
      "7/7 [==============================] - 0s 2ms/step - loss: 0.2485 - accuracy: 0.8889 - val_loss: 0.2259 - val_accuracy: 0.8889\n",
      "Epoch 10/10\n",
      "7/7 [==============================] - 0s 2ms/step - loss: 0.2212 - accuracy: 0.9259 - val_loss: 0.2018 - val_accuracy: 0.8889\n",
      "\n",
      "Accuracy during training :\n",
      "---------------------\n"
     ]
    },
    {
     "data": {
      "image/png": "[encoded data removed]",
      "text/plain": [
       "<Figure size 800x500 with 1 Axes>"
      ]
     },
     "metadata": {},
     "output_type": "display_data"
    },
    {
     "name": "stdout",
     "output_type": "stream",
     "text": [
      "\n",
      "Evaluation against Test Dataset :\n",
      "-------------------------\n",
      "1/1 [==============================] - 0s 999us/step - loss: 0.1521 - accuracy: 0.8667\n"
     ]
    },
    {
     "data": {
      "text/plain": [
       "[0.15210625529289246, 0.8666666746139526]"
      ]
     },
     "execution_count": 11,
     "metadata": {},
     "output_type": "execute_result"
    }
   ],
   "source": [
    "# Make it verbose so we can see the progress\n",
    "VERBOSE=1\n",
    "\n",
    "# Setup Hyper Parameters for training\n",
    "\n",
    "# Se Batch size\n",
    "BATCH_SIZE=16\n",
    "#Set number of epochs\n",
    "EPOCHS=10\n",
    "#Set validation split. 20% of the training data will be used for validation\n",
    "VALIDATION_SPLIT=0.2\n",
    "\n",
    "print(\"\\nTraining Progress:\\n--------------------\")\n",
    "\n",
    "# Fit the model. This willperform the entire training cycle, including\n",
    "# forward propagation, loss computation, backward propagation, and gradient descent.\n",
    "# Execute for the specified batch sizeds and epoch\n",
    "# Perform validation after each epoch\n",
    "history=model.fit(X_train, \n",
    "                  y_train,\n",
    "                  batch_size=BATCH_SIZE,\n",
    "                  epochs=EPOCHS,\n",
    "                  verbose=VERBOSE,\n",
    "                  validation_split=VALIDATION_SPLIT)\n",
    "\n",
    "print(\"\\nAccuracy during training :\\n---------------------\")\n",
    "import matplotlib.pyplot as plt\n",
    "\n",
    "# Plot accuracy of the model after each epoch.\n",
    "pd.DataFrame(history.history)[\"accuracy\"].plot(figsize=(8,5))\n",
    "plt.title(\"Accuracy improvements with each epoch\")\n",
    "plt.show()\n",
    "\n",
    "# Evaluate the model against the test dataset and print results\n",
    "print(\"\\nEvaluation against Test Dataset :\\n-------------------------\")\n",
    "model.evaluate(X_test, y_test)"
   ]
  },
  {
   "cell_type": "markdown",
   "id": "3d354f74-5ab4-464f-b1c1-885620e1ecef",
   "metadata": {},
   "source": [
    "## Saving and Loading Models\n",
    "##### The training and inference environments are usually separate. Models need to be saved after they are validated. They are then loaded into the inference environments for actual prediction."
   ]
  },
  {
   "cell_type": "code",
   "execution_count": 13,
   "id": "1f09cea6-d6e1-4e09-b785-5e105ad70884",
   "metadata": {},
   "outputs": [
    {
     "name": "stdout",
     "output_type": "stream",
     "text": [
      "WARNING:tensorflow:From C:\\Users\\frwil\\anaconda3\\envs\\deeplearning\\lib\\site-packages\\tensorflow\\python\\training\\tracking\\tracking.py:111: Model.state_updates (from tensorflow.python.keras.engine.training) is deprecated and will be removed in a future version.\n",
      "Instructions for updating:\n",
      "This property should not be used in TensorFlow 2.0, as updates are applied automatically.\n",
      "WARNING:tensorflow:From C:\\Users\\frwil\\anaconda3\\envs\\deeplearning\\lib\\site-packages\\tensorflow\\python\\training\\tracking\\tracking.py:111: Layer.updates (from tensorflow.python.keras.engine.base_layer) is deprecated and will be removed in a future version.\n",
      "Instructions for updating:\n",
      "This property should not be used in TensorFlow 2.0, as updates are applied automatically.\n",
      "INFO:tensorflow:Assets written to: iris_save\\assets\n",
      "Model: \"sequential\"\n",
      "_________________________________________________________________\n",
      "Layer (type)                 Output Shape              Param #   \n",
      "=================================================================\n",
      "Hidden-Layer-1 (Dense)       (None, 128)               640       \n",
      "_________________________________________________________________\n",
      "Hidden-Layer-2 (Dense)       (None, 128)               16512     \n",
      "_________________________________________________________________\n",
      "Output-Layer (Dense)         (None, 3)                 387       \n",
      "=================================================================\n",
      "Total params: 17,539\n",
      "Trainable params: 17,539\n",
      "Non-trainable params: 0\n",
      "_________________________________________________________________\n"
     ]
    }
   ],
   "source": [
    "# Saving a model\n",
    "model.save(\"iris_save\")\n",
    "\n",
    "# Loading a Model\n",
    "loaded_model = keras.models.load_model(\"iris_save\")\n",
    "\n",
    "# Print Model Summary\n",
    "loaded_model.summary()"
   ]
  },
  {
   "cell_type": "markdown",
   "id": "1aa1cd9b-59bc-45c4-9f97-751571abac79",
   "metadata": {},
   "source": [
    "## Predictions with Deep Learning Models"
   ]
  },
  {
   "cell_type": "code",
   "execution_count": 18,
   "id": "63b23171-5435-425b-92fe-5d7c2e753a7d",
   "metadata": {},
   "outputs": [
    {
     "name": "stdout",
     "output_type": "stream",
     "text": [
      "Raw Prediction output (Probabilities)  [[7.53562546e-09 1.07821515e-02 9.89217877e-01]]\n",
      "Prediction is  ['Iris-virginica']\n"
     ]
    }
   ],
   "source": [
    "# Raw prediction data\n",
    "prediction_input= [[6.6,3.,4.4, 1.4]]\n",
    "\n",
    "# Scale prediction data with the same scaling model\n",
    "scaled_input = scaler.transform(prediction_input)\n",
    "\n",
    "# Get raw prediciton probabilities\n",
    "raw_prediction = model.predict(prediction_input)\n",
    "print(\"Raw Prediction output (Probabilities) \", raw_prediction)\n",
    "\n",
    "# Find prediction\n",
    "prediction = np.argmax(raw_prediction)\n",
    "print(\"Prediction is \", label_encoder.inverse_transform([prediction]))"
   ]
  },
  {
   "cell_type": "code",
   "execution_count": null,
   "id": "0a85256a-8090-420a-8972-f17ef1a6c0c4",
   "metadata": {},
   "outputs": [],
   "source": []
  }
 ],
 "metadata": {
  "kernelspec": {
   "display_name": "Python 3 (ipykernel)",
   "language": "python",
   "name": "python3"
  },
  "language_info": {
   "codemirror_mode": {
    "name": "ipython",
    "version": 3
   },
   "file_extension": ".py",
   "mimetype": "text/x-python",
   "name": "python",
   "nbconvert_exporter": "python",
   "pygments_lexer": "ipython3",
   "version": "3.8.19"
  }
 },
 "nbformat": 4,
 "nbformat_minor": 5
}
